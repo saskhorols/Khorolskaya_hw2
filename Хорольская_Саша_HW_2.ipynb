{
  "nbformat": 4,
  "nbformat_minor": 0,
  "metadata": {
    "kernelspec": {
      "display_name": "Python 3 (ipykernel)",
      "language": "python",
      "name": "python3"
    },
    "language_info": {
      "codemirror_mode": {
        "name": "ipython",
        "version": 3
      },
      "file_extension": ".py",
      "mimetype": "text/x-python",
      "name": "python",
      "nbconvert_exporter": "python",
      "pygments_lexer": "ipython3",
      "version": "3.8.6"
    },
    "colab": {
      "name": "Хорольская_Саша_HW-2.ipynb",
      "provenance": [],
      "collapsed_sections": []
    }
  },
  "cells": [
    {
      "cell_type": "markdown",
      "metadata": {
        "id": "A3posBit_v77"
      },
      "source": [
        "# Домашнее задание №2 ( балла)\n",
        "\n",
        "## дедлайн 7 октября 18:10\n",
        "### 10 или 9 можно получить, если сдать домашнее задание полностью до 3 октября 23:59, а также верно выполнить задания со звездочками\n",
        "\n",
        "\n",
        "Цель:\n",
        "\n",
        "Отработать навыки работы с основными типами данных в Python.\n",
        "Отработать навыки работы с основными структурами данных в Python."
      ]
    },
    {
      "cell_type": "markdown",
      "metadata": {
        "id": "V3_p-c6m_v78"
      },
      "source": [
        "**NB!** Задания необходимо выполнять таким образом, что переменную/-ые можно было заменить на схожее слово/число/текст/список/и т.д., при этом задание все равно выполнялось бы верно."
      ]
    },
    {
      "cell_type": "markdown",
      "metadata": {
        "id": "5IHy3DUz_v8G"
      },
      "source": [
        "### Часть 1. Списки (16 баллов)"
      ]
    },
    {
      "cell_type": "markdown",
      "metadata": {
        "id": "LF37caBG_v8G"
      },
      "source": [
        "1. (2 балла) Пользователь вводит несколько чисел через запятую. Сделайте из этих чисел список, подсчитайте сумму элементов, среднее, максимальное и минимальное значение. Все результаты подсчетов выведите на экран"
      ]
    },
    {
      "cell_type": "code",
      "metadata": {
        "id": "-LK-7l2V_v8G",
        "colab": {
          "base_uri": "https://localhost:8080/"
        },
        "outputId": "5b8c5b5a-0510-4b75-e268-96e6b191c6ac"
      },
      "source": [
        "import statistics\n",
        "\n",
        "numbers = input()\n",
        "numbers = [int(i) for i in numbers.split(', ')]\n",
        "print(numbers)\n",
        "\n",
        "print('сумма', sum(numbers))\n",
        "print('среднее', statistics.mean(numbers))\n",
        "print('минимальное', min(numbers))\n",
        "print('максимальное', max(numbers))\n"
      ],
      "execution_count": null,
      "outputs": [
        {
          "output_type": "stream",
          "name": "stdout",
          "text": [
            "23, 58, 112, 8\n",
            "[23, 58, 112, 8]\n",
            "сумма 201\n",
            "среднее 50.25\n",
            "минимальное 8\n",
            "максимальное 112\n"
          ]
        }
      ]
    },
    {
      "cell_type": "markdown",
      "metadata": {
        "id": "KLUTNmQk_v8G"
      },
      "source": [
        "2. (2 балла) Даны два списка. \"Слить\" их через один (чередуя элементы то одного, то другого списка).\n",
        "\n",
        "`f = [1,2,3]`\n",
        "\n",
        "`s = ['1','2','3']`\n",
        "\n",
        "Ожидаемый результат:\n",
        "\n",
        "`[1, '1', 2, '2', 3, '3']`\n"
      ]
    },
    {
      "cell_type": "markdown",
      "metadata": {
        "id": "1be1P1k5_v8H"
      },
      "source": [
        "* _Список может быть любого размера, а ваш код все равно должен работать._\n",
        "* _можно заработать + 2 балла к заданию, если сделать его в одну строку_"
      ]
    },
    {
      "cell_type": "code",
      "metadata": {
        "id": "y1VqZ_7P_v8H",
        "colab": {
          "base_uri": "https://localhost:8080/"
        },
        "outputId": "0ae9614e-1ae4-445a-94a6-a54d02a35503"
      },
      "source": [
        "f = [1,2,3,4,5,6]\n",
        "s = ['1','2','3','4','5','6']\n",
        "result = []\n",
        "if len(f) > len(s):\n",
        "  add.extend(f[len(s):])\n",
        "else: \n",
        "  add.extend(s[len(f):])\n",
        "for i in range(min(len(f), len(s))):\n",
        "  result.append(f[i])\n",
        "  result.append(s[i])\n",
        "result.extend(add)\n",
        "print(result)"
      ],
      "execution_count": null,
      "outputs": [
        {
          "output_type": "stream",
          "name": "stdout",
          "text": [
            "[1, '1', 2, '2', 3, '3', 4, '4', 5, '5', 6, '6']\n"
          ]
        }
      ]
    },
    {
      "cell_type": "markdown",
      "metadata": {
        "id": "wAsDtE_0_v8H"
      },
      "source": [
        "3. (4 балла) Создайте следующий лист: \n",
        "\n",
        "`months = [\n",
        "'Декабрь', 'Январь', 'Февраль',\n",
        "'Март', 'Апрель', 'Май',\n",
        "'Июнь', 'Июль', 'Август',\n",
        "'Сентябрь', 'Октябрь', 'Ноябрь'\n",
        "]`. \n",
        "\n",
        "Ваша задача получить из него:\n",
        "    - все зимние месяцы\n",
        "    - все летние месяцы\n",
        "    - каждый второй месяц года начиная с Января\n",
        "    - первые месяцы каждого сезона (4),\n",
        "\n",
        "используя `slice`."
      ]
    },
    {
      "cell_type": "code",
      "metadata": {
        "id": "ol-aAzBb_v8H",
        "colab": {
          "base_uri": "https://localhost:8080/"
        },
        "outputId": "023646c5-3494-4946-a52e-91d8036cf80a"
      },
      "source": [
        "months = [ 'Декабрь', 'Январь', 'Февраль', 'Март', 'Апрель', 'Май', 'Июнь', 'Июль', 'Август', 'Сентябрь', 'Октябрь', 'Ноябрь' ]\n",
        "winter = months[:3]\n",
        "summer = months[6:9]\n",
        "second = months[1::2]\n",
        "season = months[::3]\n",
        "print('Зимние:', winter)\n",
        "print('Летние:', summer)\n",
        "print('Каждый второй месяц года начиная с Января:', second)\n",
        "print('Первый месяц сезона:', season)"
      ],
      "execution_count": null,
      "outputs": [
        {
          "output_type": "stream",
          "name": "stdout",
          "text": [
            "Зимние: ['Декабрь', 'Январь', 'Февраль']\n",
            "Летние: ['Июнь', 'Июль', 'Август']\n",
            "Каждый второй месяц года начиная с Января: ['Январь', 'Март', 'Май', 'Июль', 'Сентябрь', 'Ноябрь']\n",
            "Первый месяц сезона: ['Декабрь', 'Март', 'Июнь', 'Сентябрь']\n"
          ]
        }
      ]
    },
    {
      "cell_type": "markdown",
      "metadata": {
        "id": "dyFDN1th_v8H"
      },
      "source": [
        "4. (3 балла) Создайте list \n",
        "\n",
        "`weekdays = ['Понедельник', 2, 'Cреда', 'Четверг', 5]`\n",
        "\n",
        "- Исправьте числа 2 и 5 на Вторник и Пятницу соответственно\n",
        "- Добавьте недостающие дни в конец списка\n",
        "- Посчитайте длину итогового листа"
      ]
    },
    {
      "cell_type": "code",
      "metadata": {
        "id": "mpUCmwn4_v8H",
        "colab": {
          "base_uri": "https://localhost:8080/"
        },
        "outputId": "68c72043-d2a3-425d-c501-f7ad60e7dda4"
      },
      "source": [
        "weekdays = ['Понедельник', 2, 'Cреда', 'Четверг', 5]\n",
        "weekends = ['Суббота', 'Воскресенье']\n",
        "weekdays.extend(weekends)\n",
        "weekdays.remove(2)\n",
        "weekdays.remove(5)\n",
        "weekdays.insert(1, 'Вторник')\n",
        "weekdays.insert(4, 'Пятница')\n",
        "\n",
        "\n",
        "print(weekdays)\n",
        "print('длина листа:', len(weekdays))"
      ],
      "execution_count": null,
      "outputs": [
        {
          "output_type": "stream",
          "name": "stdout",
          "text": [
            "['Понедельник', 'Вторник', 'Cреда', 'Четверг', 'Пятница', 'Суббота', 'Воскресенье']\n",
            "длина листа: 7\n"
          ]
        }
      ]
    },
    {
      "cell_type": "markdown",
      "metadata": {
        "id": "sX7Pyq8d_v8H"
      },
      "source": [
        "5. (3 балла) Создайте строку (str) `'йтцыу фочтмлзирчйнбою асапырйафвялгяшещшоьрскяу!й'`\n",
        "\n",
        "    - Превратите ее в лист символов\n",
        "    - Расшифруйте закодированное в ней сообщение, выбрав из всех символов только символы с **нечетным** индексом\n",
        "    - Превратите полученный лист обратно в строку и напечатайте результат\n",
        "\n",
        "**Hint** вам понадобится функция `.join()`"
      ]
    },
    {
      "cell_type": "code",
      "metadata": {
        "id": "fJozshnzC69S",
        "colab": {
          "base_uri": "https://localhost:8080/"
        },
        "outputId": "21c0e33d-2bff-4e0f-a13a-b1b5b1cf9045"
      },
      "source": [
        "what = str('йтцыу фочтмлзирчйнбою асапырйафвялгяшещшоьрскяу!й')\n",
        "what_list = list(what)\n",
        "result = []\n",
        "for i in range(len(what_list)):\n",
        "    if i % 2 != 0:\n",
        "        temp = list(what_list[i])\n",
        "        result += temp\n",
        "result = ''.join(result)\n",
        "print(result.capitalize())"
      ],
      "execution_count": null,
      "outputs": [
        {
          "output_type": "stream",
          "name": "stdout",
          "text": [
            "Ты отлично справляешься!\n"
          ]
        }
      ]
    },
    {
      "cell_type": "markdown",
      "metadata": {
        "id": "hI1vaX97DLgo"
      },
      "source": [
        "6. (2 балла) Дан список (придумайте любой и положите в переменную `my_list`, `input()` использовать не нужно). Проверить, содержит ли данный список повторяющиеся элементы, удалить повторяющиеся элементы (без использования `dict` и `set`)"
      ]
    },
    {
      "cell_type": "code",
      "metadata": {
        "id": "c4_1mkhp_v8H",
        "colab": {
          "base_uri": "https://localhost:8080/"
        },
        "outputId": "5c7a685e-427f-4273-e84f-3c83c011a635"
      },
      "source": [
        "my_list = [4, 8, 15, 16, 23, 23, 42, 42]\n",
        "print('Мой список:', my_list)\n",
        "for i in my_list:\n",
        "    temp = my_list.count(i)\n",
        "    while temp != 1:\n",
        "        my_list.remove(i)\n",
        "        temp = my_list.count(i)\n",
        "\n",
        "print('Без повторов:', my_list)\n",
        "\n"
      ],
      "execution_count": null,
      "outputs": [
        {
          "output_type": "stream",
          "name": "stdout",
          "text": [
            "Мой список: [4, 8, 15, 16, 23, 23, 42, 42]\n",
            "Без повторов: [4, 8, 15, 16, 23, 42]\n"
          ]
        }
      ]
    },
    {
      "cell_type": "markdown",
      "metadata": {
        "id": "nSJWKkvq_v8I"
      },
      "source": [
        "### Часть 2. Кортежи (3 балла)"
      ]
    },
    {
      "cell_type": "markdown",
      "metadata": {
        "id": "hFX4GTq1_v8I"
      },
      "source": [
        "29. (1 балл) Создать кортеж из одного элемента."
      ]
    },
    {
      "cell_type": "code",
      "metadata": {
        "id": "_qcdWtzz_v8I",
        "colab": {
          "base_uri": "https://localhost:8080/"
        },
        "outputId": "7815faa7-890d-4013-cdad-9fca2cd7c707"
      },
      "source": [
        "shr = ('ek',)\n",
        "print(shr)"
      ],
      "execution_count": null,
      "outputs": [
        {
          "output_type": "stream",
          "name": "stdout",
          "text": [
            "('ek',)\n"
          ]
        }
      ]
    },
    {
      "cell_type": "markdown",
      "metadata": {
        "id": "WFrsJtZr_v8I"
      },
      "source": [
        "30. (1 балл) Создайте кортеж из списка, напечатайте его.\n",
        "\n",
        "`months = [\n",
        "'Январь', 'Февраль',\n",
        "'Март', 'Апрель', 'Май',\n",
        "'Июнь', 'Июль', 'Август',\n",
        "'Сентябрь', 'Октябрь', 'Ноябрь'\n",
        "]`"
      ]
    },
    {
      "cell_type": "code",
      "metadata": {
        "id": "1zL4nMN4_v8I",
        "colab": {
          "base_uri": "https://localhost:8080/"
        },
        "outputId": "795efaeb-bd92-4479-d229-4dcf6e37cff2"
      },
      "source": [
        "months = [ 'Январь', 'Февраль', 'Март', 'Апрель', 'Май', 'Июнь', 'Июль', 'Август', 'Сентябрь', 'Октябрь', 'Ноябрь' ]\n",
        "new_months = tuple(months)\n",
        "print(new_months)"
      ],
      "execution_count": null,
      "outputs": [
        {
          "output_type": "stream",
          "name": "stdout",
          "text": [
            "('Январь', 'Февраль', 'Март', 'Апрель', 'Май', 'Июнь', 'Июль', 'Август', 'Сентябрь', 'Октябрь', 'Ноябрь')\n"
          ]
        }
      ]
    },
    {
      "cell_type": "markdown",
      "metadata": {
        "id": "iGn7e0Ow_v8I"
      },
      "source": [
        "31. (1 балл) Добавьте недостающий месяц (на выходе ожидается кортеж)"
      ]
    },
    {
      "cell_type": "code",
      "metadata": {
        "id": "ZdD0BuYU_v8I",
        "colab": {
          "base_uri": "https://localhost:8080/"
        },
        "outputId": "adc57c19-c35a-44f5-ba76-1602b2d4afe4"
      },
      "source": [
        "months = [ 'Январь', 'Февраль', 'Март', 'Апрель', 'Май', 'Июнь', 'Июль', 'Август', 'Сентябрь', 'Октябрь', 'Ноябрь' ]\n",
        "months.insert(0, 'Декабрь')\n",
        "new_months = tuple(months)\n",
        "print(new_months)"
      ],
      "execution_count": null,
      "outputs": [
        {
          "output_type": "stream",
          "name": "stdout",
          "text": [
            "('Декабрь', 'Январь', 'Февраль', 'Март', 'Апрель', 'Май', 'Июнь', 'Июль', 'Август', 'Сентябрь', 'Октябрь', 'Ноябрь')\n"
          ]
        }
      ]
    },
    {
      "cell_type": "markdown",
      "metadata": {
        "id": "netCKvWK_v8I"
      },
      "source": [
        "### Часть 3. Сеты (4 балла)"
      ]
    },
    {
      "cell_type": "markdown",
      "metadata": {
        "id": "vmpZWO8Z_v8I"
      },
      "source": [
        "32. (1 балл) Посчитать, сколько различных букв в слове 'превысокомногорассмотрительствующий'"
      ]
    },
    {
      "cell_type": "code",
      "metadata": {
        "id": "IUBHgO78_v8J",
        "colab": {
          "base_uri": "https://localhost:8080/"
        },
        "outputId": "53c934f7-7c63-4443-864c-5114a4e53b9a"
      },
      "source": [
        "s = 'превысокомногорассмотрительствующий'\n",
        "print('В слове', s, len(set(s)), 'различных букв') \n",
        "\n"
      ],
      "execution_count": 15,
      "outputs": [
        {
          "output_type": "stream",
          "name": "stdout",
          "text": [
            "В слове превысокомногорассмотрительствующий 20 различных букв\n"
          ]
        }
      ]
    },
    {
      "cell_type": "markdown",
      "metadata": {
        "id": "EtPaMLQO_v8J"
      },
      "source": [
        "33. (1 балл) Какие различные буквы имеют слова \"превысокомногорассмотрительствующий\" и \"водогрязеторфопарафинолечение\"?"
      ]
    },
    {
      "cell_type": "code",
      "metadata": {
        "id": "dwIdysLu_v8J",
        "colab": {
          "base_uri": "https://localhost:8080/"
        },
        "outputId": "ec0c8e8e-66b7-408c-aa0a-2018cc308b9f"
      },
      "source": [
        "a = 'превысокомногорассмотрительствующий'\n",
        "b = 'водогрязеторфопарафинолечение'\n",
        "aa = set(a)\n",
        "bb = set(b)\n",
        "result = bb.symmetric_difference(aa)\n",
        "print(result)"
      ],
      "execution_count": 29,
      "outputs": [
        {
          "output_type": "stream",
          "name": "stdout",
          "text": [
            "{'д', 'м', 'с', 'й', 'я', 'ю', 'у', 'ы', 'з', 'ч', 'ь', 'щ', 'к', 'ф'}\n"
          ]
        }
      ]
    },
    {
      "cell_type": "markdown",
      "metadata": {
        "id": "UQxsVL3w_v8J"
      },
      "source": [
        "34. (1 балл) Какие общие буквы имеют слова \"превысокомногорассмотрительствующий\" и \"водогрязеторфопарафинолечение\"?"
      ]
    },
    {
      "cell_type": "code",
      "metadata": {
        "id": "unSFfV_a_v8J",
        "colab": {
          "base_uri": "https://localhost:8080/"
        },
        "outputId": "948d90cc-bc9c-49e2-b927-3f7901baeca9"
      },
      "source": [
        "c = 'превысокомногорассмотрительствующий'\n",
        "d = 'водогрязеторфопарафинолечение'\n",
        "cc = set(c)\n",
        "dd = set(d)\n",
        "result = dd.intersection(cc)\n",
        "print(result)"
      ],
      "execution_count": 30,
      "outputs": [
        {
          "output_type": "stream",
          "name": "stdout",
          "text": [
            "{'р', 'а', 'в', 'п', 'о', 'е', 'н', 'т', 'г', 'и', 'л'}\n"
          ]
        }
      ]
    },
    {
      "cell_type": "markdown",
      "metadata": {
        "id": "GauGi3oF_v8J"
      },
      "source": [
        "35. (1 балл) Есть ли буквы в слове \"превысокомногорассмотрительствующий\", которых нет в слове \"водогрязеторфопарафинолечение\"? А наоборот?"
      ]
    },
    {
      "cell_type": "code",
      "metadata": {
        "id": "TfTtSHFY_v8J",
        "colab": {
          "base_uri": "https://localhost:8080/"
        },
        "outputId": "27051ace-fe28-402b-dc5a-22577ab01dcd"
      },
      "source": [
        "c = 'превысокомногорассмотрительствующий'\n",
        "d = 'водогрязеторфопарафинолечение'\n",
        "cc = set(c)\n",
        "dd = set(d)\n",
        "result1 = dd.difference(cc)\n",
        "result2 = cc.difference(dd)\n",
        "print('в слове', c, 'нет букв\\n', result1)\n",
        "print('в слове', d, 'нет букв\\n', result2)"
      ],
      "execution_count": 32,
      "outputs": [
        {
          "output_type": "stream",
          "name": "stdout",
          "text": [
            "в слове превысокомногорассмотрительствующий нет букв\n",
            " {'д', 'з', 'ч', 'я', 'ф'}\n",
            "в слове водогрязеторфопарафинолечение нет букв\n",
            " {'м', 'с', 'й', 'ь', 'щ', 'к', 'ю', 'ы', 'у'}\n"
          ]
        }
      ]
    },
    {
      "cell_type": "markdown",
      "metadata": {
        "id": "E2sczfkn_v8J"
      },
      "source": [
        "### Часть 6. Словари и полезные вещи (10 баллов)"
      ]
    },
    {
      "cell_type": "markdown",
      "metadata": {
        "id": "VxZ4E8JhEHxD"
      },
      "source": [
        "Дан текст. Текст приведен к начальной форме уже за вас (мы это научимся делать на следующем занятии).\n",
        "```\n",
        "1. DJ Khaled замутить трек, в который читать только Drake. \n",
        "2. Drake организовывать на этот песня очень крутой клип, в который вместо он сниматься только джастин бибер.\n",
        "\n",
        "видимо, награда за весь это быть получать леонардо дикаприо 😅\n",
        "\n",
        "в клип джастин, кстати, выглядеть очень бодрый и наконец выздоравливать от болезнь и депрессия.\n",
        "отдельный прикол в то, что он там «читать» строчка про свой бывший девушка селен гомес, про себя сам и про то, насколько дрейк - крутой они все и взрывать индустрия 😂🤟\n",
        "```"
      ]
    },
    {
      "cell_type": "markdown",
      "metadata": {
        "id": "hGBIV3hS_v8K"
      },
      "source": [
        "36. (1 балл) Запишите его в переменную. Обратите внимание, что текст многострочный -- переносы строки нужно сохранить!"
      ]
    },
    {
      "cell_type": "code",
      "metadata": {
        "id": "BLB2YgyY_v8K"
      },
      "source": [
        "text = ''' \n",
        "1. DJ Khaled замутить трек, в который читать только Drake. \n",
        "2. Drake организовывать на этот песня очень крутой клип, в который вместо он сниматься только джастин бибер.\n",
        "\n",
        "видимо, награда за весь это быть получать леонардо дикаприо 😅\n",
        "\n",
        "в клип джастин, кстати, выглядеть очень бодрый и наконец выздоравливать от болезнь и депрессия.\n",
        "отдельный прикол в то, что он там «читать» строчка про свой бывший девушка селен гомес, про себя сам и про то, насколько дрейк - крутой они все и взрывать индустрия 😂🤟'''\n"
      ],
      "execution_count": 5,
      "outputs": []
    },
    {
      "cell_type": "markdown",
      "metadata": {
        "id": "Z2529Ids_v8K"
      },
      "source": [
        "37. (1 балл) Разделите текст на предложения (используя `\"\\n\"`) "
      ]
    },
    {
      "cell_type": "code",
      "metadata": {
        "id": "DWR1Ckig_v8K",
        "colab": {
          "base_uri": "https://localhost:8080/"
        },
        "outputId": "17e73cd8-5a56-4cf6-f037-5edc1f3686ad"
      },
      "source": [
        "sentences = text.split('\\n')\n",
        "print(sentences)"
      ],
      "execution_count": 16,
      "outputs": [
        {
          "output_type": "stream",
          "name": "stdout",
          "text": [
            "[' ', '1. DJ Khaled замутить трек, в который читать только Drake. ', '2. Drake организовывать на этот песня очень крутой клип, в который вместо он сниматься только джастин бибер.', '', 'видимо, награда за весь это быть получать леонардо дикаприо 😅', '', 'в клип джастин, кстати, выглядеть очень бодрый и наконец выздоравливать от болезнь и депрессия.', 'отдельный прикол в то, что он там «читать» строчка про свой бывший девушка селен гомес, про себя сам и про то, насколько дрейк - крутой они все и взрывать индустрия 😂🤟']\n"
          ]
        }
      ]
    },
    {
      "cell_type": "markdown",
      "metadata": {
        "id": "pa1_7zAS_v8K"
      },
      "source": [
        "38. (2 балла) Разделите предложения на слова, удалите пунктуацию до и после слов, используя `.strip()`. И кавычки тоже удалите."
      ]
    },
    {
      "cell_type": "code",
      "metadata": {
        "id": "Fj0ZPwO1_v8K",
        "colab": {
          "base_uri": "https://localhost:8080/"
        },
        "outputId": "db8d69d3-66fc-46c0-f2d8-3c627b511c0d"
      },
      "source": [
        "from string import punctuation\n",
        "sentences = text.split('\\n')\n",
        "print(punctuation)\n",
        "words = []\n",
        "for sentence in sentences: \n",
        "  if sentence: \n",
        "    words.append([i.strip(punctuation + \"«»\") for i in sentence.split()])\n",
        "print(words)"
      ],
      "execution_count": 38,
      "outputs": [
        {
          "output_type": "stream",
          "name": "stdout",
          "text": [
            "!\"#$%&'()*+,-./:;<=>?@[\\]^_`{|}~\n",
            "[[], ['1', 'DJ', 'Khaled', 'замутить', 'трек', 'в', 'который', 'читать', 'только', 'Drake'], ['2', 'Drake', 'организовывать', 'на', 'этот', 'песня', 'очень', 'крутой', 'клип', 'в', 'который', 'вместо', 'он', 'сниматься', 'только', 'джастин', 'бибер'], ['видимо', 'награда', 'за', 'весь', 'это', 'быть', 'получать', 'леонардо', 'дикаприо', '😅'], ['в', 'клип', 'джастин', 'кстати', 'выглядеть', 'очень', 'бодрый', 'и', 'наконец', 'выздоравливать', 'от', 'болезнь', 'и', 'депрессия'], ['отдельный', 'прикол', 'в', 'то', 'что', 'он', 'там', 'читать', 'строчка', 'про', 'свой', 'бывший', 'девушка', 'селен', 'гомес', 'про', 'себя', 'сам', 'и', 'про', 'то', 'насколько', 'дрейк', '', 'крутой', 'они', 'все', 'и', 'взрывать', 'индустрия', '😂🤟']]\n"
          ]
        }
      ]
    },
    {
      "cell_type": "markdown",
      "metadata": {
        "id": "H6JJW1GH_v8K"
      },
      "source": [
        "39. (2 балла) Создайте словарь, в котором ключ -- слово из текста, а значение -- количество раз, сколько оно встречается во всем тексте.\n",
        "\n",
        "например:\n",
        "\n",
        "`dct = {\"go\": 1, \"went\": 2, \"gone\": 3}`\n",
        "\n",
        "Напечатайте словарь"
      ]
    },
    {
      "cell_type": "code",
      "metadata": {
        "id": "cy5_T8yM_v8L",
        "colab": {
          "base_uri": "https://localhost:8080/"
        },
        "outputId": "036c7070-1db1-4957-ab05-99b0b40dee70"
      },
      "source": [
        "dct = {}\n",
        "for sentence in all_words: \n",
        "  for word in sentence: \n",
        "    dct.setdefault(word, 0)\n",
        "    dct[word] += 1\n",
        "print(dct)"
      ],
      "execution_count": 12,
      "outputs": [
        {
          "output_type": "stream",
          "name": "stdout",
          "text": [
            "{'1': 1, 'DJ': 1, 'Khaled': 1, 'замутить': 1, 'трек': 1, 'в': 4, 'который': 2, 'читать': 2, 'только': 2, 'Drake': 2, '2': 1, 'организовывать': 1, 'на': 1, 'этот': 1, 'песня': 1, 'очень': 2, 'крутой': 2, 'клип': 2, 'вместо': 1, 'он': 2, 'сниматься': 1, 'джастин': 2, 'бибер': 1, 'видимо': 1, 'награда': 1, 'за': 1, 'весь': 1, 'это': 1, 'быть': 1, 'получать': 1, 'леонардо': 1, 'дикаприо': 1, '😅': 1, 'кстати': 1, 'выглядеть': 1, 'бодрый': 1, 'и': 4, 'наконец': 1, 'выздоравливать': 1, 'от': 1, 'болезнь': 1, 'депрессия': 1, 'отдельный': 1, 'прикол': 1, 'то': 2, 'что': 1, 'там': 1, 'строчка': 1, 'про': 3, 'свой': 1, 'бывший': 1, 'девушка': 1, 'селен': 1, 'гомес': 1, 'себя': 1, 'сам': 1, 'насколько': 1, 'дрейк': 1, '': 1, 'они': 1, 'все': 1, 'взрывать': 1, 'индустрия': 1, '😂🤟': 1}\n"
          ]
        }
      ]
    },
    {
      "cell_type": "markdown",
      "metadata": {
        "id": "lCKeMfMY_v8L"
      },
      "source": [
        "40. (2 балла) Напечатайте слова, встречающиеся более 1 раза в формате `\"слово кол-во раз\"` через пробел.\n",
        "\n",
        "    * Если сможете напечатать в порядке убывания (от большего к меньшему) + 2 балла"
      ]
    },
    {
      "cell_type": "code",
      "metadata": {
        "id": "bd5BAdeu_v8L",
        "colab": {
          "base_uri": "https://localhost:8080/"
        },
        "outputId": "12d2451b-e4f3-4155-c0cd-82ae3d76da2f"
      },
      "source": [
        "peep = list(dct.items())\n",
        "peep.sort(key=lambda x: -x[1])\n",
        "for word, value in peep:\n",
        "    if value == 1:\n",
        "        break\n",
        "    print(word, value)"
      ],
      "execution_count": 35,
      "outputs": [
        {
          "output_type": "stream",
          "name": "stdout",
          "text": [
            "крутой 5\n",
            "в 4\n",
            "очень 4\n",
            "и 4\n",
            "про 3\n",
            "который 2\n",
            "читать 2\n",
            "только 2\n",
            "Drake 2\n",
            "клип 2\n",
            "он 2\n",
            "джастин 2\n",
            "то 2\n",
            "шрэк 2\n"
          ]
        }
      ]
    },
    {
      "cell_type": "markdown",
      "metadata": {
        "id": "6mEkbtQk_v8M"
      },
      "source": [
        "41. (2 балла) Пользователь вводит с клавиатуры какое-нибудь слово.\n",
        "Проверяем, есть ли слово в массиве: если нет, добавляем его туда и печатаем \"Слово X добавлено\", а если есть, то печатаем ответ \"Слово X в тексте N раз\"."
      ]
    },
    {
      "cell_type": "code",
      "metadata": {
        "id": "JvQMP8wR_v8M",
        "colab": {
          "base_uri": "https://localhost:8080/"
        },
        "outputId": "7caafbbc-77e0-48d5-c7ff-a25a97550bda"
      },
      "source": [
        "slovo = input()\n",
        "if dct.setdefault(slovo, 0):\n",
        "  dct[slovo] += 1\n",
        "  print(\"Слово\", slovo, \"в тексте\", dct[slovo], \"раз\")\n",
        "else:\n",
        "  dct[slovo] += 1\n",
        "  print(\"Слово\", slovo, \"добавлено\")"
      ],
      "execution_count": 36,
      "outputs": [
        {
          "output_type": "stream",
          "name": "stdout",
          "text": [
            "шрэк\n",
            "Слово шрэк в тексте 3 раз\n"
          ]
        }
      ]
    },
    {
      "cell_type": "markdown",
      "metadata": {
        "id": "YTZ_hhhBFasx"
      },
      "source": [
        "## Задания со звездочкой (9 или 10 можно получить, решив эти задания)"
      ]
    },
    {
      "cell_type": "markdown",
      "metadata": {
        "id": "159FPHDYFpk1"
      },
      "source": [
        "42. По заданному n вывести левосторонний треугольник из следующих цифр:\n"
      ]
    },
    {
      "cell_type": "code",
      "metadata": {
        "colab": {
          "base_uri": "https://localhost:8080/"
        },
        "id": "KqJoZEUIFaEd",
        "outputId": "d2c330c7-b7ab-4ca2-f9da-300a204200af"
      },
      "source": [
        "n = 9\n",
        "z = ''\n",
        "for i in range(n + 1):\n",
        "    z += str(i) + ' '\n",
        "    print(z)"
      ],
      "execution_count": 39,
      "outputs": [
        {
          "output_type": "stream",
          "name": "stdout",
          "text": [
            "0 \n",
            "0 1 \n",
            "0 1 2 \n",
            "0 1 2 3 \n",
            "0 1 2 3 4 \n",
            "0 1 2 3 4 5 \n",
            "0 1 2 3 4 5 6 \n",
            "0 1 2 3 4 5 6 7 \n",
            "0 1 2 3 4 5 6 7 8 \n",
            "0 1 2 3 4 5 6 7 8 9 \n"
          ]
        }
      ]
    },
    {
      "cell_type": "markdown",
      "metadata": {
        "id": "-9rUNF4-Fofe"
      },
      "source": [
        "*43*. По заданному n вывести перевернутый правосторонний треугольник из следующих цифр"
      ]
    },
    {
      "cell_type": "code",
      "metadata": {
        "colab": {
          "base_uri": "https://localhost:8080/"
        },
        "id": "Sa7ZDOa-Fm7O",
        "outputId": "73a8e93d-efc6-4bb7-ce73-9fa59565f8d1"
      },
      "source": [
        "n = 9\n",
        "z = ''.join(str(i) for i in range(n +1))\n",
        "z = list(z)\n",
        "print(*z)\n",
        "for i in range(n + 1): \n",
        "  z.remove(z[-1])\n",
        "  z.insert(0, ' ')\n",
        "  print(*z)"
      ],
      "execution_count": 40,
      "outputs": [
        {
          "output_type": "stream",
          "name": "stdout",
          "text": [
            "0 1 2 3 4 5 6 7 8 9\n",
            "  0 1 2 3 4 5 6 7 8\n",
            "    0 1 2 3 4 5 6 7\n",
            "      0 1 2 3 4 5 6\n",
            "        0 1 2 3 4 5\n",
            "          0 1 2 3 4\n",
            "            0 1 2 3\n",
            "              0 1 2\n",
            "                0 1\n",
            "                  0\n",
            "                   \n"
          ]
        }
      ]
    },
    {
      "cell_type": "markdown",
      "metadata": {
        "id": "y1BSSdWe_v8N"
      },
      "source": [
        "#### Напишите ниже вашу обратную связь по домашнему заданию в комментарии. \n",
        "\n",
        "#### Какие задания показались вам самыми сложными / простыми? Что понравилось, а что нет?"
      ]
    },
    {
      "cell_type": "code",
      "metadata": {
        "id": "xciAjxQG_v8N"
      },
      "source": [
        "#Задания 2 и 5 показались особо трудными.\n",
        "#Не всегда понятно, что именно требуется в задании. \n",
        "#Возможно, это связно с тем, что это работа с новыми терминами и формулировками.\n",
        "#На первых парах не хватает уточнений. Например, касательно того, нужен input или заданная переменная.\n",
        "#Возможно, в первых заданиях с этой логикой следует уточнять. \n",
        "#Не всегда понятно, какие именно операции нужно проводит (вдруг задание подразумевает что-то конкретное?)"
      ],
      "execution_count": 41,
      "outputs": []
    }
  ]
}